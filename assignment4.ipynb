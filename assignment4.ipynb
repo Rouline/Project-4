{
 "cells": [
  {
   "cell_type": "code",
   "execution_count": 1,
   "metadata": {},
   "outputs": [
    {
     "name": "stdin",
     "output_type": "stream",
     "text": [
      "Enter the House Price:  400000\n",
      "Down Payment:  15000\n",
      "Enter first name:  Rouline\n",
      "Enter last name:  Moses\n",
      "Enter the Phone No:  0700000000\n",
      "Enter the Email Address:  mosesr@oal.com\n",
      "Enter the Postal Address:  1324\n",
      "Enter the Zip Code:  00100\n",
      "Enter the City:  Nairobary\n",
      "Enter Credit Score: 599\n"
     ]
    },
    {
     "name": "stdout",
     "output_type": "stream",
     "text": [
      "Credit Score: 599\n",
      "Below Average\n",
      "Down Payment:80000.0\n"
     ]
    },
    {
     "name": "stdin",
     "output_type": "stream",
     "text": [
      " 07000000000\n"
     ]
    },
    {
     "name": "stdout",
     "output_type": "stream",
     "text": [
      "\n",
      "Fullnames: Rouline Moses\n",
      "Postal Address: 1324\n",
      "City:Nairobary\n",
      "Zip Code: 00100\n",
      "New House Price: 400000\n",
      "Email: mosesr@oal.com\n",
      "Down Payment 80000.0\n",
      "Credit Status:  599\n",
      "Phone Number: 0700000000\n"
     ]
    }
   ],
   "source": [
    "#Enter the price of the House i wish to Buy\n",
    "price= input(\"Enter the House Price: \")\n",
    "#Enter the Down Payment\n",
    "down_payment = input(\"Down Payment: \")\n",
    "#Enter the first name\n",
    "first_name = input(\"Enter first name: \")\n",
    "#Enter the last name\n",
    "last_name = input(\"Enter last name: \")\n",
    "\n",
    "fullnames = (first_name + \" \" + last_name)\n",
    "\n",
    "#Enter the Phone No\n",
    "phone_no=input(\"Enter the Phone No: \")\n",
    "\n",
    "#Enter the email\n",
    "email=input(\"Enter the Email Address: \")\n",
    "\n",
    "#Enter the mailings\n",
    "postal_address =input(\"Enter the Postal Address: \")\n",
    "zip_code = input(\"Enter the Zip Code: \")\n",
    "city=input(\"Enter the City: \")\n",
    "\n",
    "#Qualify for loans with the best interest rates\n",
    "credit_score=input(\"Enter Credit Score:\")\n",
    "print(\"Credit Score: \" + credit_score)\n",
    "if int(credit_score)>=780 & 850:\n",
    "    down_payment = (0.0 * int(price))\n",
    "    print(\"Excellent Credit\")\n",
    "    print(f\"Zero Down Payment:{down_payment}\")\n",
    "elif int(credit_score)>=720 & 739:\n",
    "    print(\"Very Good\")\n",
    "    down_payment = (0.3 * int(price))\n",
    "    print(f\"Down Payment:{down_payment}\")\n",
    "elif int(credit_score)>=680 & 719:\n",
    "    print(\"Average\")\n",
    "    down_payment = (0.6 * int(price))\n",
    "    print(f\"Down Payment:{down_payment}\")\n",
    "elif int(credit_score)>=680 & 679:\n",
    "    print(\"Below Average\")\n",
    "    down_payment = (0.18 * int(price))\n",
    "    print(f\"Down Payment:{down_payment}\")\n",
    "    Below_Average = input()\n",
    "elif int(credit_score)>=580 & 619:\n",
    "    print(\"Below Average\")\n",
    "    down_payment = (0.20 * int(price))\n",
    "    print(f\"Down Payment:{down_payment}\")\n",
    "    poor_credit_score = input()\n",
    "else:\n",
    "    int(credit_score) <=520\n",
    "    print(\"Poor Credit Score\")\n",
    "    down_payment = (0.25 * int(price))\n",
    "\n",
    "print()\n",
    "print(\"Fullnames: \" + fullnames)\n",
    "print(\"Postal Address: \" + postal_address)\n",
    "print(\"City:\" + city)\n",
    "print(\"Zip Code: \" + zip_code)\n",
    "print(\"New House Price: \" + price)\n",
    "print(\"Email: \" + email)\n",
    "print(\"Down Payment\",down_payment)\n",
    "print(\"Credit Status: \" \" \" + credit_score)\n",
    "print(\"Phone Number: \" + str(phone_no))\n",
    "\n"
   ]
  },
  {
   "cell_type": "code",
   "execution_count": null,
   "metadata": {},
   "outputs": [],
   "source": []
  }
 ],
 "metadata": {
  "kernelspec": {
   "display_name": "Python 3",
   "language": "python",
   "name": "python3"
  },
  "language_info": {
   "codemirror_mode": {
    "name": "ipython",
    "version": 3
   },
   "file_extension": ".py",
   "mimetype": "text/x-python",
   "name": "python",
   "nbconvert_exporter": "python",
   "pygments_lexer": "ipython3",
   "version": "3.7.6"
  }
 },
 "nbformat": 4,
 "nbformat_minor": 4
}
